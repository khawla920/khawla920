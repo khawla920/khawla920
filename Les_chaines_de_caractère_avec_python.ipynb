{
  "nbformat": 4,
  "nbformat_minor": 0,
  "metadata": {
    "colab": {
      "name": "Les chaines de caractère avec python.ipynb",
      "provenance": [],
      "toc_visible": true,
      "authorship_tag": "ABX9TyPvug+yZounbk218/8sq6ds",
      "include_colab_link": true
    },
    "kernelspec": {
      "name": "python3",
      "display_name": "Python 3"
    },
    "language_info": {
      "name": "python"
    }
  },
  "cells": [
    {
      "cell_type": "markdown",
      "metadata": {
        "id": "view-in-github",
        "colab_type": "text"
      },
      "source": [
        "<a href=\"https://colab.research.google.com/github/khawla920/khawla920/blob/main/Les_chaines_de_caract%C3%A8re_avec_python.ipynb\" target=\"_parent\"><img src=\"https://colab.research.google.com/assets/colab-badge.svg\" alt=\"Open In Colab\"/></a>"
      ]
    },
    {
      "cell_type": "code",
      "execution_count": null,
      "metadata": {
        "colab": {
          "base_uri": "https://localhost:8080/"
        },
        "id": "dgzX_0OR0JsS",
        "outputId": "e44c4fe9-3fed-47d7-9c3c-666a3174c502"
      },
      "outputs": [
        {
          "output_type": "stream",
          "name": "stdout",
          "text": [
            "donner un chaine: reserver\n",
            "rese*ve*\n"
          ]
        }
      ],
      "source": [
        "\n",
        "ch=str(input(\"donner une chaine: \"))\n",
        "ch1=ch[:1]\n",
        "result=ch1+ch[1:].replace(ch1, \"*\")\n",
        "print(result)\n",
        "\n"
      ]
    },
    {
      "cell_type": "code",
      "source": [
        "ch1=str(input(\"donner une chaine: \"))\n",
        "ch2=str(input(\"donner une chaine: \"))\n",
        "a=ch1[:2]\n",
        "b=ch2[:2]\n",
        "print(a)\n",
        "print(b)\n",
        "result=b+ch1[2:]+a+ch2[2:]\n",
        "print(result)"
      ],
      "metadata": {
        "colab": {
          "base_uri": "https://localhost:8080/"
        },
        "id": "Ii4WZXfjgVd3",
        "outputId": "ceacfaed-5965-431b-9ca5-ca523eed05d3"
      },
      "execution_count": null,
      "outputs": [
        {
          "output_type": "stream",
          "name": "stdout",
          "text": [
            "donner un chaine: khawla\n",
            "donner un chaine: benhamed\n",
            "kh\n",
            "be\n",
            "beawlakhnhamed\n"
          ]
        }
      ]
    },
    {
      "cell_type": "code",
      "source": [
        "ch1=str(input(\"donner une chaine: \"))\n",
        "n=int(input(\"donner l'index n: \"))\n",
        "result=(ch1[:n]+ch1[n+1:])\n",
        "print(result)"
      ],
      "metadata": {
        "colab": {
          "base_uri": "https://localhost:8080/"
        },
        "id": "d2w_U2j0lB0z",
        "outputId": "0171cb43-6fd0-4626-c8ba-9f5dab398cd1"
      },
      "execution_count": null,
      "outputs": [
        {
          "output_type": "stream",
          "name": "stdout",
          "text": [
            "donner un chaine: python\n",
            "donner l'index n: 3\n",
            "pyton\n"
          ]
        }
      ]
    },
    {
      "cell_type": "code",
      "source": [
        "ch1=str(input(\"donner une chaine: \"))\n",
        "a=ch1[:1]\n",
        "b=ch1[-1:]\n",
        "print(a)\n",
        "print(b)\n",
        "result=b+ch1[1:-1]+a\n",
        "print(result)"
      ],
      "metadata": {
        "colab": {
          "base_uri": "https://localhost:8080/"
        },
        "id": "b9zFB1W1qP2O",
        "outputId": "c7d279b1-362b-4c1f-ff87-18f3fff3ff8e"
      },
      "execution_count": null,
      "outputs": [
        {
          "output_type": "stream",
          "name": "stdout",
          "text": [
            "donner un chaine: khawla\n",
            "k\n",
            "a\n",
            "ahawlk\n"
          ]
        }
      ]
    },
    {
      "cell_type": "code",
      "source": [
        "txt='''Python est le langage de programmation open source le plus\n",
        "employé par les informaticiens. Ce langage s’est propulsé en tête de la\n",
        "gestion d’infrastructure, d’analyse de données ou dans le domaine du\n",
        "développement de logiciels. En effet, parmi ses qualités, Python permet\n",
        "notamment aux développeurs de se concentrer sur ce qu’ils font plutôt\n",
        "que sur la manière dont ils le font. Il a libéré les développeurs des\n",
        "contraintes de formes qui occupaient leur temps avec les langages plus\n",
        "anciens. Ainsi, développer du code avec Python est plus rapide qu’avec d’autres\n",
        "langages.'''\n",
        "\n",
        "len(txt)\n",
        "words = txt.split()\n",
        "#la fonction split sans argument fait le split selon les espaces\n",
        "#print(words)\n",
        "word = txt.split(\"le\")\n",
        "list=[]\n",
        "for i in word:\n",
        "  l=i.replace(\"\\n\", \" \")\n",
        "  list.append(l)\n",
        "print(list)\n",
        "phrase = txt.split(\".\")\n",
        "list=[]\n",
        "for i in phrase:\n",
        "  l=i.replace(\"\\n\", \" \")\n",
        "  list.append(l)\n",
        "print(list)\n",
        "min=txt.lower()\n",
        "#print(min)\n",
        "maj=txt.upper()\n",
        "#print(maj)\n",
        "x = txt.startswith(\"Py\")\n",
        "print(x)\n",
        "y=txt.endswith(\"ga\")\n",
        "print(y)\n",
        "text=txt+\"Dans cette formation on va voir à quoi peut servir Python.\"\n",
        "#print(text)\n",
        "occurence=txt.find(\"programmation\")\n",
        "print(occurence)\n",
        "#la fonction find retourne la postion de l'occurence de la valeur recherchée\n",
        "#affiche la valeur -1 si valeur introuvable\n",
        "remplacer=txt.replace(\"domaine\",\"secteur\")\n",
        "print(remplacer)"
      ],
      "metadata": {
        "colab": {
          "base_uri": "https://localhost:8080/"
        },
        "id": "Q4z8gXI2s6hp",
        "outputId": "17beca9b-3167-407b-9f2c-8ab9786f18ba"
      },
      "execution_count": 25,
      "outputs": [
        {
          "output_type": "stream",
          "name": "stdout",
          "text": [
            "['Python est ', ' langage de programmation open source ', ' plus employé par ', 's informaticiens. Ce langage s’est propulsé en tête de la gestion d’infrastructure, d’analyse de données ou dans ', ' domaine du développement de logiciels. En effet, parmi ses qualités, Python permet notamment aux développeurs de se concentrer sur ce qu’ils font plutôt que sur la manière dont ils ', ' font. Il a libéré ', 's développeurs des contraintes de formes qui occupaient ', 'ur temps avec ', 's langages plus anciens. Ainsi, développer du code avec Python est plus rapide qu’avec d’autres langages.']\n",
            "['Python est le langage de programmation open source le plus employé par les informaticiens', ' Ce langage s’est propulsé en tête de la gestion d’infrastructure, d’analyse de données ou dans le domaine du développement de logiciels', ' En effet, parmi ses qualités, Python permet notamment aux développeurs de se concentrer sur ce qu’ils font plutôt que sur la manière dont ils le font', ' Il a libéré les développeurs des contraintes de formes qui occupaient leur temps avec les langages plus anciens', ' Ainsi, développer du code avec Python est plus rapide qu’avec d’autres langages', '']\n",
            "True\n",
            "False\n",
            "25\n",
            "Python est le langage de programmation open source le plus\n",
            "employé par les informaticiens. Ce langage s’est propulsé en tête de la\n",
            "gestion d’infrastructure, d’analyse de données ou dans le secteur du\n",
            "développement de logiciels. En effet, parmi ses qualités, Python permet\n",
            "notamment aux développeurs de se concentrer sur ce qu’ils font plutôt\n",
            "que sur la manière dont ils le font. Il a libéré les développeurs des\n",
            "contraintes de formes qui occupaient leur temps avec les langages plus\n",
            "anciens. Ainsi, développer du code avec Python est plus rapide qu’avec d’autres\n",
            "langages.\n"
          ]
        }
      ]
    }
  ]
}