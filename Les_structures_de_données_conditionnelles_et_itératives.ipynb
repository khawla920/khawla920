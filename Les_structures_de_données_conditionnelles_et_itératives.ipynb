{
  "nbformat": 4,
  "nbformat_minor": 0,
  "metadata": {
    "colab": {
      "name": "Les structures de données conditionnelles et itératives.ipynb",
      "provenance": [],
      "authorship_tag": "ABX9TyMdfXXJpZCukf30k3oDZSD+",
      "include_colab_link": true
    },
    "kernelspec": {
      "name": "python3",
      "display_name": "Python 3"
    },
    "language_info": {
      "name": "python"
    }
  },
  "cells": [
    {
      "cell_type": "markdown",
      "metadata": {
        "id": "view-in-github",
        "colab_type": "text"
      },
      "source": [
        "<a href=\"https://colab.research.google.com/github/khawla920/khawla920/blob/main/Les_structures_de_donn%C3%A9es_conditionnelles_et_it%C3%A9ratives.ipynb\" target=\"_parent\"><img src=\"https://colab.research.google.com/assets/colab-badge.svg\" alt=\"Open In Colab\"/></a>"
      ]
    },
    {
      "cell_type": "code",
      "execution_count": 6,
      "metadata": {
        "colab": {
          "base_uri": "https://localhost:8080/"
        },
        "id": "vPY38PpGK6oW",
        "outputId": "7895bcd7-d61d-482d-d3f4-16e487c1f52e"
      },
      "outputs": [
        {
          "output_type": "stream",
          "name": "stdout",
          "text": [
            "saisir le prix HT-3\n",
            "saisir le prix HT-5\n",
            "saisir le prix HT-3\n",
            "saisir le prix HT5\n",
            "0.95\n"
          ]
        }
      ],
      "source": [
        "prix=-1\n",
        "while prix<=0:\n",
        "  prix=int(input(\"saisir le prix HT\"))\n",
        "  if prix == 0:\n",
        "    break\n",
        "TTC=prix*0.19\n",
        "print(TTC)\n",
        "\n",
        "\n"
      ]
    },
    {
      "cell_type": "code",
      "source": [
        "list=[-5,12,110,500,100,10]\n",
        "i=0\n",
        "somme=0\n",
        "count=0\n",
        "while i in range(len(list)):\n",
        "  if list[i]>=0:\n",
        "    somme=somme+list[i]\n",
        "  if list[i]>=100:\n",
        "    count=count+1\n",
        "  i+=1\n",
        "print(somme)\n",
        "print(count)\n",
        "\n"
      ],
      "metadata": {
        "colab": {
          "base_uri": "https://localhost:8080/"
        },
        "id": "ysv2CaDANd7W",
        "outputId": "e092297f-1d71-488d-84a9-749851cd2da7"
      },
      "execution_count": 23,
      "outputs": [
        {
          "output_type": "stream",
          "name": "stdout",
          "text": [
            "732\n",
            "3\n"
          ]
        }
      ]
    },
    {
      "cell_type": "code",
      "source": [
        "n=-1\n",
        "while n<=0:\n",
        "  n=int(input(\"donner un nombre\"))\n",
        "  if n == 0:\n",
        "    break\n",
        "\n",
        "if n%2 == 0:\n",
        "  print (n, \"est un nombre paire\")\n",
        "else:\n",
        "  print(n,\"est un nombre impair\" )\n"
      ],
      "metadata": {
        "colab": {
          "base_uri": "https://localhost:8080/"
        },
        "id": "jRkAAMvMR_Ar",
        "outputId": "3a66bd8c-2fce-493f-e278-252f154ec77e"
      },
      "execution_count": 12,
      "outputs": [
        {
          "output_type": "stream",
          "name": "stdout",
          "text": [
            "donner un nombre-6\n",
            "donner un nombre0\n",
            "donner un nombre5\n",
            "5 est un nombre impair\n"
          ]
        }
      ]
    },
    {
      "cell_type": "code",
      "source": [
        "n=-1\n",
        "while n<=0:\n",
        "  n=int(input(\"donner un nombre\"))\n",
        "  if n == 0:\n",
        "    break\n",
        "count=0\n",
        "while n%2 == 0:\n",
        "  count=count+1\n",
        "  n=n/2\n",
        "print(count)"
      ],
      "metadata": {
        "colab": {
          "base_uri": "https://localhost:8080/"
        },
        "id": "Tq7xzHZ-Xe-9",
        "outputId": "97395780-625b-47a1-9830-880965a4ed7e"
      },
      "execution_count": 34,
      "outputs": [
        {
          "output_type": "stream",
          "name": "stdout",
          "text": [
            "donner un nombre15\n",
            "0\n"
          ]
        }
      ]
    },
    {
      "cell_type": "code",
      "source": [
        "n=0\n",
        "while n<1:\n",
        "  n=int(input(\"donner un nombre\"))\n",
        "\n",
        "list=[]\n",
        "count=0\n",
        "i=2\n",
        "while i < n:\n",
        "  if n%i ==0:\n",
        "    list.append(i)\n",
        "    count=count+1\n",
        "  i+=1\n",
        "print(list)\n",
        "print(count)\n"
      ],
      "metadata": {
        "colab": {
          "base_uri": "https://localhost:8080/"
        },
        "id": "Nq-YWIGpa17b",
        "outputId": "f3a9e341-a14c-4abe-e537-8f204e7c9b86"
      },
      "execution_count": 42,
      "outputs": [
        {
          "output_type": "stream",
          "name": "stdout",
          "text": [
            "donner un nombre8\n",
            "[2, 4]\n",
            "2\n"
          ]
        }
      ]
    },
    {
      "cell_type": "code",
      "source": [
        "cote1=int(input(\"saisir la longueur de premier cote\"))\n",
        "cote2=int(input(\"saisir la longueur de deuxieme cote\"))\n",
        "cote3=int(input(\"saisir la longueur de troixieme cote\"))\n",
        "if cote1==cote2 and cote2==cote3:\n",
        "  print(\"il s'agit d'un triangle équilatéral\")\n",
        "elif cote1 != cote2 and cote2 != cote3:\n",
        "  print(\"il s'agit d'un triangle scalène\")\n",
        "elif cote1 == cote2 or cote1 == cote3 or cote2 == cote3:\n",
        "  print(\"il s'agit d'un triangle isocèle\")\n"
      ],
      "metadata": {
        "colab": {
          "base_uri": "https://localhost:8080/"
        },
        "id": "IsaXOc1ldopr",
        "outputId": "3ee63a3e-a0ad-4236-b3f2-9be816398dac"
      },
      "execution_count": 45,
      "outputs": [
        {
          "output_type": "stream",
          "name": "stdout",
          "text": [
            "saisir la longueur de premier cote2\n",
            "saisir la longueur de deuxieme cote3\n",
            "saisir la longueur de troixieme cote4\n",
            "il s'agit d'un triangle scalène\n"
          ]
        }
      ]
    },
    {
      "cell_type": "code",
      "source": [
        "L=[]\n",
        "for i in range (51):\n",
        "  L.append(i)\n",
        "print(L)\n",
        "len(L)\n",
        "result=[]\n",
        "result.append(L[0])\n",
        "result.append(L[1])\n",
        "for k in range(2,len(L)):\n",
        "  result.append(result[k-2]+result[k-1])\n",
        "print(result)\n",
        "  \n"
      ],
      "metadata": {
        "colab": {
          "base_uri": "https://localhost:8080/"
        },
        "id": "7TYE52EngDik",
        "outputId": "dc619a25-d8bc-48ca-a862-8a20c3a6eeab"
      },
      "execution_count": 57,
      "outputs": [
        {
          "output_type": "stream",
          "name": "stdout",
          "text": [
            "[0, 1, 2, 3, 4, 5, 6, 7, 8, 9, 10, 11, 12, 13, 14, 15, 16, 17, 18, 19, 20, 21, 22, 23, 24, 25, 26, 27, 28, 29, 30, 31, 32, 33, 34, 35, 36, 37, 38, 39, 40, 41, 42, 43, 44, 45, 46, 47, 48, 49, 50]\n",
            "[0, 1, 1, 2, 3, 5, 8, 13, 21, 34, 55, 89, 144, 233, 377, 610, 987, 1597, 2584, 4181, 6765, 10946, 17711, 28657, 46368, 75025, 121393, 196418, 317811, 514229, 832040, 1346269, 2178309, 3524578, 5702887, 9227465, 14930352, 24157817, 39088169, 63245986, 102334155, 165580141, 267914296, 433494437, 701408733, 1134903170, 1836311903, 2971215073, 4807526976, 7778742049, 12586269025]\n"
          ]
        }
      ]
    },
    {
      "cell_type": "code",
      "source": [
        "ch=str(input(\"saisir une chiane\"))\n",
        "nb_digit=0\n",
        "nb_caractere=0\n",
        "for i in ch:\n",
        "  if i.isnumeric():\n",
        "    nb_digit=nb_digit+1\n",
        "  else:\n",
        "    nb_caractere=nb_caractere+1\n",
        "\n",
        "print(\"le nombre de digit est égale à \",nb_digit)\n",
        "print(\"le nombre de caractere est égale à \",nb_caractere)\n"
      ],
      "metadata": {
        "colab": {
          "base_uri": "https://localhost:8080/"
        },
        "id": "2Dwials1omRR",
        "outputId": "3616c1f3-7e35-4a0d-e82b-fa931e1cafc1"
      },
      "execution_count": 59,
      "outputs": [
        {
          "output_type": "stream",
          "name": "stdout",
          "text": [
            "saisir une chianew3ressource4\n",
            "le nombre de digit est égale à  2\n",
            "le nombre de caractere est égale à  10\n"
          ]
        }
      ]
    }
  ]
}