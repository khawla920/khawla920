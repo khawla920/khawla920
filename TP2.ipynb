{
  "nbformat": 4,
  "nbformat_minor": 0,
  "metadata": {
    "colab": {
      "name": "TP2.ipynb",
      "provenance": [],
      "authorship_tag": "ABX9TyPz7G7RnvbWylK86HKsQAZA",
      "include_colab_link": true
    },
    "kernelspec": {
      "name": "python3",
      "display_name": "Python 3"
    },
    "language_info": {
      "name": "python"
    }
  },
  "cells": [
    {
      "cell_type": "markdown",
      "metadata": {
        "id": "view-in-github",
        "colab_type": "text"
      },
      "source": [
        "<a href=\"https://colab.research.google.com/github/khawla920/khawla920/blob/main/TP2.ipynb\" target=\"_parent\"><img src=\"https://colab.research.google.com/assets/colab-badge.svg\" alt=\"Open In Colab\"/></a>"
      ]
    },
    {
      "cell_type": "code",
      "execution_count": 2,
      "metadata": {
        "colab": {
          "base_uri": "https://localhost:8080/"
        },
        "id": "4jlGEEvyWRJL",
        "outputId": "95953270-5758-4add-88c1-f30d782945de"
      },
      "outputs": [
        {
          "output_type": "stream",
          "name": "stdout",
          "text": [
            "saisissez le rayon de cone:3\n",
            "3.0\n",
            "saisissez le hauteur de cone:7\n",
            "7.0\n",
            "65.94\n"
          ]
        }
      ],
      "source": [
        "r=float(input(\"saisissez le rayon de cone:\"))\n",
        "print(r)\n",
        "h=float(input(\"saisissez le hauteur de cone:\"))\n",
        "print(h)\n",
        "pi=3.14\n",
        "Volume=(pi*r*r*h)*1/3\n",
        "print(Volume)\n",
        "\n",
        "\n"
      ]
    },
    {
      "cell_type": "code",
      "source": [
        "n=(input(\"saisissez la valeur de n:\"))\n",
        "print(n ,\"+\",(n*2),\"+\",(n*3),\"=\",int(n)+int(n*2)+int(n*3))"
      ],
      "metadata": {
        "colab": {
          "base_uri": "https://localhost:8080/"
        },
        "id": "Qv5Fm_ClX1Km",
        "outputId": "5c9ba7dd-c93e-452b-cd18-b80e3b7a8066"
      },
      "execution_count": 71,
      "outputs": [
        {
          "output_type": "stream",
          "name": "stdout",
          "text": [
            "saisissez la valeur de n:5\n",
            "5 + 55 + 555 = 615\n"
          ]
        }
      ]
    },
    {
      "cell_type": "code",
      "source": [
        "x=int(input())\n",
        "y=int(input())\n",
        "z=(x+y)**2\n",
        "print(z)\n"
      ],
      "metadata": {
        "colab": {
          "base_uri": "https://localhost:8080/"
        },
        "id": "58mVfD-bZWSv",
        "outputId": "0adfd4fc-0b7b-4c4c-a0e0-02d4203c4d82"
      },
      "execution_count": 13,
      "outputs": [
        {
          "output_type": "stream",
          "name": "stdout",
          "text": [
            "5\n",
            "4\n",
            "81\n"
          ]
        }
      ]
    },
    {
      "cell_type": "code",
      "source": [
        "x=int(input(\"donner un entier\"))\n",
        "jour=int(x/(3600*24))\n",
        "reste=x%(3600*24)\n",
        "heure=int(reste/60)\n",
        "reste1=x%(3600)\n",
        "minute=int(reste1/60)\n",
        "reste2=x%(60)\n",
        "seconde=int(reste2)\n",
        "print(\"jour:\",jour,\"heure:\",heure,\"minute:\",minute,\"seconde\",seconde)\n"
      ],
      "metadata": {
        "colab": {
          "base_uri": "https://localhost:8080/"
        },
        "id": "rSJAcz5SavHf",
        "outputId": "45074546-ecdb-46e2-fc47-21f478d748c0"
      },
      "execution_count": 73,
      "outputs": [
        {
          "output_type": "stream",
          "name": "stdout",
          "text": [
            "donner un entier86400\n",
            "jour: 1 heure: 0 minute: 0 seconde 0\n"
          ]
        }
      ]
    },
    {
      "cell_type": "code",
      "source": [
        "x=str(input(\"donner un nombre de 4 chiffre\"))\n",
        "somme=0\n",
        "for i in x:\n",
        "  j=int(i)\n",
        "  somme=somme+j\n",
        "\n",
        "print(somme)\n",
        "\n"
      ],
      "metadata": {
        "colab": {
          "base_uri": "https://localhost:8080/"
        },
        "id": "k1kpzrOviR4V",
        "outputId": "700f3492-6e7e-495c-9611-da555e74f8c6"
      },
      "execution_count": 51,
      "outputs": [
        {
          "output_type": "stream",
          "name": "stdout",
          "text": [
            "donner un nombre de 4 chiffre4541\n",
            "14\n"
          ]
        }
      ]
    },
    {
      "cell_type": "code",
      "source": [
        "ch=\"532\"\n",
        "while len(ch)!=4:\n",
        "  ch=input(\"donner un nombre\")\n",
        "\n",
        "x=int(ch)\n",
        "a=x//1000\n",
        "b=(x%1000)//100\n",
        "c=(x%100)//10\n",
        "d=(x%10)\n",
        "print(a+b+c+d)\n",
        "\n"
      ],
      "metadata": {
        "colab": {
          "base_uri": "https://localhost:8080/"
        },
        "id": "YF7lbqvXqAFF",
        "outputId": "fba669f4-7848-4992-d7a9-5b34acb81c59"
      },
      "execution_count": 72,
      "outputs": [
        {
          "output_type": "stream",
          "name": "stdout",
          "text": [
            "donner un nombre5687\n",
            "26\n"
          ]
        }
      ]
    },
    {
      "cell_type": "code",
      "source": [
        ""
      ],
      "metadata": {
        "id": "fXAIjUpExgK8"
      },
      "execution_count": null,
      "outputs": []
    }
  ]
}