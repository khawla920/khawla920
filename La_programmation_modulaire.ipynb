{
  "nbformat": 4,
  "nbformat_minor": 0,
  "metadata": {
    "colab": {
      "name": "La programmation modulaire.ipynb",
      "provenance": [],
      "authorship_tag": "ABX9TyMlFAhjSNSvkmlkZ0ZMxEk/",
      "include_colab_link": true
    },
    "kernelspec": {
      "name": "python3",
      "display_name": "Python 3"
    },
    "language_info": {
      "name": "python"
    }
  },
  "cells": [
    {
      "cell_type": "markdown",
      "metadata": {
        "id": "view-in-github",
        "colab_type": "text"
      },
      "source": [
        "<a href=\"https://colab.research.google.com/github/khawla920/khawla920/blob/main/La_programmation_modulaire.ipynb\" target=\"_parent\"><img src=\"https://colab.research.google.com/assets/colab-badge.svg\" alt=\"Open In Colab\"/></a>"
      ]
    },
    {
      "cell_type": "code",
      "source": [
        "\n",
        "import test as tst\n",
        "tst.print_text()\n",
        "tst.find_log(16)\n",
        "#tst.find_exp(2)\n",
        "\n"
      ],
      "metadata": {
        "colab": {
          "base_uri": "https://localhost:8080/"
        },
        "id": "-hn0fn5L26jh",
        "outputId": "289ed8f7-6763-4098-beb1-58a880424357"
      },
      "execution_count": 5,
      "outputs": [
        {
          "output_type": "stream",
          "name": "stdout",
          "text": [
            "This message is from an external module\n"
          ]
        },
        {
          "output_type": "execute_result",
          "data": {
            "text/plain": [
              "2.772588722239781"
            ]
          },
          "metadata": {},
          "execution_count": 5
        }
      ]
    },
    {
      "cell_type": "code",
      "source": [
        "#from test import find_log\n",
        "#find_log(16)\n",
        "#from test import find_exp\n",
        "#find_exp(2)\n",
        "from test import *\n",
        "print(find_log(16))\n",
        "print(find_exp(16))"
      ],
      "metadata": {
        "colab": {
          "base_uri": "https://localhost:8080/"
        },
        "id": "ubxc-unR7Sbg",
        "outputId": "c04d9b17-b900-454f-a510-a6adb74d59ba"
      },
      "execution_count": 9,
      "outputs": [
        {
          "output_type": "stream",
          "name": "stdout",
          "text": [
            "2.772588722239781\n",
            "8886110.520507872\n"
          ]
        }
      ]
    },
    {
      "cell_type": "code",
      "source": [
        "import test2\n",
        "test2.find_sqrt(4)\n"
      ],
      "metadata": {
        "colab": {
          "base_uri": "https://localhost:8080/"
        },
        "id": "jzI72Ppx_F2V",
        "outputId": "6c0020c8-8a65-4b04-ae2f-80d7b0c873c8"
      },
      "execution_count": 11,
      "outputs": [
        {
          "output_type": "execute_result",
          "data": {
            "text/plain": [
              "2.0"
            ]
          },
          "metadata": {},
          "execution_count": 11
        }
      ]
    }
  ]
}