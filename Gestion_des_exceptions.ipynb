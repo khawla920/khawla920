{
  "nbformat": 4,
  "nbformat_minor": 0,
  "metadata": {
    "colab": {
      "name": "Gestion des exceptions.ipynb",
      "provenance": [],
      "authorship_tag": "ABX9TyMntB9VmCZoWF7p0iOyYCvM",
      "include_colab_link": true
    },
    "kernelspec": {
      "name": "python3",
      "display_name": "Python 3"
    },
    "language_info": {
      "name": "python"
    }
  },
  "cells": [
    {
      "cell_type": "markdown",
      "metadata": {
        "id": "view-in-github",
        "colab_type": "text"
      },
      "source": [
        "<a href=\"https://colab.research.google.com/github/khawla920/khawla920/blob/main/Gestion_des_exceptions.ipynb\" target=\"_parent\"><img src=\"https://colab.research.google.com/assets/colab-badge.svg\" alt=\"Open In Colab\"/></a>"
      ]
    },
    {
      "cell_type": "code",
      "execution_count": 3,
      "metadata": {
        "colab": {
          "base_uri": "https://localhost:8080/"
        },
        "id": "l5-vgdBmBOzy",
        "outputId": "45b222ee-bf6b-434c-95a6-322b18f64d76"
      },
      "outputs": [
        {
          "output_type": "stream",
          "name": "stdout",
          "text": [
            "Average: 30.0\n",
            "Average: 300.0\n",
            "Division par zero ! \n",
            "Average: None\n"
          ]
        }
      ],
      "source": [
        "def sum_of_list(numbers):\n",
        " return sum(numbers)\n",
        "#la fonction sum_of_list retourne la somme des elements d'une liste\n",
        "\n",
        "def average(sum, n):\n",
        "  try:\n",
        "    return sum / n\n",
        "  except ZeroDivisionError:\n",
        "    print(\"Division par zero ! \")\n",
        "\n",
        "#la fonction average retourne la moyenne des elements d'une liste\n",
        "\n",
        "def final_data(data):\n",
        " for item in data:\n",
        "   print(\"Average:\", average(sum_of_list(item), len(item)))\n",
        "\n",
        "#la fonction final_data retourne la moyenne de chaque sous-liste dans une liste\n",
        "list1 = [10, 20, 30, 40, 50]\n",
        "list2 = [100, 200, 300, 400, 500]\n",
        "# empty list\n",
        "list3 = []\n",
        "lists = [list1, list2, list3]\n",
        "final_data(lists)\n"
      ]
    },
    {
      "cell_type": "code",
      "source": [
        "a = 1\n",
        "strs = \"hello\"\n",
        "def func(a):\n",
        "  try:\n",
        "    res = a + strs\n",
        "    print(res)\n",
        "  except TypeError:\n",
        "    print(\"TypeError ! \")\n",
        "\n",
        "print(func(a))"
      ],
      "metadata": {
        "colab": {
          "base_uri": "https://localhost:8080/"
        },
        "id": "Q-SMxgkbE_Bs",
        "outputId": "1139cbfa-9861-48de-977b-a0442fbc5988"
      },
      "execution_count": 17,
      "outputs": [
        {
          "output_type": "stream",
          "name": "stdout",
          "text": [
            "TypeError ! \n",
            "None\n"
          ]
        }
      ]
    },
    {
      "cell_type": "code",
      "source": [
        "var = 10\n",
        "def test_func(var):\n",
        "# var = 10\n",
        "  var += 1\n",
        "  print(var)\n",
        "\n",
        "test_func(var)"
      ],
      "metadata": {
        "colab": {
          "base_uri": "https://localhost:8080/"
        },
        "id": "IriLsg46Gu6r",
        "outputId": "f86562f6-7f01-44ec-bec1-9dbf2aaf5cc3"
      },
      "execution_count": 22,
      "outputs": [
        {
          "output_type": "stream",
          "name": "stdout",
          "text": [
            "11\n"
          ]
        }
      ]
    },
    {
      "cell_type": "code",
      "source": [
        "score = int(input(\"Enter your score between 0 and 100: \"))\n",
        "def calculate_level(score):\n",
        " if score > 90:\n",
        "   level = 'expert'\n",
        " elif score > 70:\n",
        "   level = 'advanced'\n",
        " elif score > 55:\n",
        "   level = 'intermediate'\n",
        " elif score <55:\n",
        "   level = 'débutant'\n",
        " return level\n",
        "print(f'Your level is: {calculate_level(score)}')"
      ],
      "metadata": {
        "colab": {
          "base_uri": "https://localhost:8080/"
        },
        "id": "ULpNudjOICGX",
        "outputId": "e733d513-76f6-4133-8ba5-fed6a639d319"
      },
      "execution_count": 27,
      "outputs": [
        {
          "output_type": "stream",
          "name": "stdout",
          "text": [
            "Enter your score between 0 and 100: 33\n",
            "Your level is: débutant\n"
          ]
        }
      ]
    }
  ]
}