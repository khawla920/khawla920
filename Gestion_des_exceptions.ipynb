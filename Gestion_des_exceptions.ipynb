{
  "nbformat": 4,
  "nbformat_minor": 0,
  "metadata": {
    "colab": {
      "name": "Gestion des exceptions.ipynb",
      "provenance": [],
      "authorship_tag": "ABX9TyPp01K+k9L79bemTMvW567k",
      "include_colab_link": true
    },
    "kernelspec": {
      "name": "python3",
      "display_name": "Python 3"
    },
    "language_info": {
      "name": "python"
    }
  },
  "cells": [
    {
      "cell_type": "markdown",
      "metadata": {
        "id": "view-in-github",
        "colab_type": "text"
      },
      "source": [
        "<a href=\"https://colab.research.google.com/github/khawla920/khawla920/blob/main/Gestion_des_exceptions.ipynb\" target=\"_parent\"><img src=\"https://colab.research.google.com/assets/colab-badge.svg\" alt=\"Open In Colab\"/></a>"
      ]
    },
    {
      "cell_type": "code",
      "execution_count": 1,
      "metadata": {
        "colab": {
          "base_uri": "https://localhost:8080/",
          "height": 130
        },
        "id": "eN-bWfqxCnNt",
        "outputId": "b624e880-5f4f-4bc2-bef9-91778727a6c5"
      },
      "outputs": [
        {
          "output_type": "error",
          "ename": "IndentationError",
          "evalue": "ignored",
          "traceback": [
            "\u001b[0;36m  File \u001b[0;32m\"<ipython-input-1-bb5fc006ef74>\"\u001b[0;36m, line \u001b[0;32m3\u001b[0m\n\u001b[0;31m    return sum(numbers)\u001b[0m\n\u001b[0m         ^\u001b[0m\n\u001b[0;31mIndentationError\u001b[0m\u001b[0;31m:\u001b[0m expected an indented block\n"
          ]
        }
      ],
      "source": [
        "\n",
        "def sum_of_list(numbers):\n",
        "return sum(numbers)\n",
        "def average(sum, n):\n",
        "return sum / n\n",
        "def final_data(data):\n",
        "for item in data:\n",
        "print(\"Average:\", average(sum_of_list(item), len(item)))\n",
        "list1 = [10, 20, 30, 40, 50]\n",
        "list2 = [100, 200, 300, 400, 500]\n",
        "# empty list\n",
        "list3 = []\n",
        "lists = [list1, list2, list3]\n",
        "final_data(lists)"
      ]
    }
  ]
}