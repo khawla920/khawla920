{
  "nbformat": 4,
  "nbformat_minor": 0,
  "metadata": {
    "colab": {
      "name": "Les structures de données avec Python.ipynb",
      "provenance": [],
      "authorship_tag": "ABX9TyMw2Rpv7gAn6v2GjqmXFKE4",
      "include_colab_link": true
    },
    "kernelspec": {
      "name": "python3",
      "display_name": "Python 3"
    },
    "language_info": {
      "name": "python"
    }
  },
  "cells": [
    {
      "cell_type": "markdown",
      "metadata": {
        "id": "view-in-github",
        "colab_type": "text"
      },
      "source": [
        "<a href=\"https://colab.research.google.com/github/khawla920/khawla920/blob/main/Les_structures_de_donn%C3%A9es_avec_Python.ipynb\" target=\"_parent\"><img src=\"https://colab.research.google.com/assets/colab-badge.svg\" alt=\"Open In Colab\"/></a>"
      ]
    },
    {
      "cell_type": "code",
      "execution_count": 7,
      "metadata": {
        "colab": {
          "base_uri": "https://localhost:8080/"
        },
        "id": "89R_Lus3P65J",
        "outputId": "26ba632d-78fe-41d6-b36f-192dbe845598"
      },
      "outputs": [
        {
          "output_type": "execute_result",
          "data": {
            "text/plain": [
              "800"
            ]
          },
          "metadata": {},
          "execution_count": 7
        }
      ],
      "source": [
        "list= [15,200,800,14,0,6]\n",
        "def max(list):\n",
        "  try:\n",
        "    max=list[0]\n",
        "    for i in list:\n",
        "      if i> max:\n",
        "        max=i\n",
        "    return max\n",
        "  except:\n",
        "    print(\"la liste est vide!\")\n",
        "\n",
        "list1=[]\n",
        "max(list)\n"
      ]
    },
    {
      "cell_type": "code",
      "source": [
        "chaine=[\"lll\",\"rr\",\"bonjour\",\"ramasser\"]\n",
        "def verif_chaine(ch):\n",
        "  count=0\n",
        "  for ch in chaine:\n",
        "    if len(ch)>=2 and ch[0]==ch[-1]:\n",
        "      count=count+1\n",
        "      print(ch)\n",
        "  print(\"le nombre de chaines vérifiant la condition est égale à \",count)\n",
        "\n",
        "verif_chaine(chaine)\n"
      ],
      "metadata": {
        "colab": {
          "base_uri": "https://localhost:8080/"
        },
        "id": "pEDGq60YSMwR",
        "outputId": "c36924ea-ea50-4eb4-bb1d-4c7b688865b8"
      },
      "execution_count": 38,
      "outputs": [
        {
          "output_type": "stream",
          "name": "stdout",
          "text": [
            "lll\n",
            "rr\n",
            "ramasser\n",
            "le nombre de chaines vérifiant la condition est égale à  3\n"
          ]
        }
      ]
    },
    {
      "cell_type": "code",
      "source": [
        "list=[0,1,1,1,15,14,15,7,18,7]\n",
        "list1=[]\n",
        "\n",
        "def delete(list):\n",
        "  for i in list:\n",
        "    if i not in list1:\n",
        "      list1.append(i)\n",
        "  print(list1)\n",
        "\n",
        "delete(list)\n"
      ],
      "metadata": {
        "colab": {
          "base_uri": "https://localhost:8080/"
        },
        "id": "v6-U3EeKUchp",
        "outputId": "8d212d65-963e-40e3-d007-b5af432aca4f"
      },
      "execution_count": 40,
      "outputs": [
        {
          "output_type": "stream",
          "name": "stdout",
          "text": [
            "[0, 1, 15, 14, 7, 18]\n"
          ]
        }
      ]
    },
    {
      "cell_type": "code",
      "source": [
        "\n",
        "n=10\n",
        "mon_dictionnaire = dict()\n",
        "\n",
        "for i in range(1, n):\n",
        "  mon_dictionnaire[i] = i*i\n",
        "\n",
        "mon_dictionnaire\n"
      ],
      "metadata": {
        "colab": {
          "base_uri": "https://localhost:8080/"
        },
        "id": "GPrtuzPhXs5o",
        "outputId": "9f79a5cf-200b-4425-db3f-a94d154c3a0f"
      },
      "execution_count": 33,
      "outputs": [
        {
          "output_type": "execute_result",
          "data": {
            "text/plain": [
              "{1: 1, 2: 4, 3: 9, 4: 16, 5: 25, 6: 36, 7: 49, 8: 64, 9: 81}"
            ]
          },
          "metadata": {},
          "execution_count": 33
        }
      ]
    },
    {
      "cell_type": "code",
      "source": [
        "fruits = {\"pommes\":21, \"melons\":3, \"poires\":31}\n",
        "for cle, valeur in fruits.items():\n",
        "  print(\"la clé {} contient la valeur {}.\".format(cle, valeur))\n",
        "  "
      ],
      "metadata": {
        "colab": {
          "base_uri": "https://localhost:8080/"
        },
        "id": "100z61j4acJn",
        "outputId": "4199868f-013e-4475-cdcb-9997b8a52ea9"
      },
      "execution_count": 47,
      "outputs": [
        {
          "output_type": "stream",
          "name": "stdout",
          "text": [
            "la clé pommes contient la valeur 21.\n",
            "la clé melons contient la valeur 3.\n",
            "la clé poires contient la valeur 31.\n"
          ]
        }
      ]
    }
  ]
}